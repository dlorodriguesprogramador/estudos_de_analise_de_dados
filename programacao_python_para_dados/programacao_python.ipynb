{
  "nbformat": 4,
  "nbformat_minor": 0,
  "metadata": {
    "colab": {
      "provenance": [],
      "authorship_tag": "ABX9TyNP7CoPuucjDCynemKs/H+5",
      "include_colab_link": true
    },
    "kernelspec": {
      "name": "python3",
      "display_name": "Python 3"
    },
    "language_info": {
      "name": "python"
    }
  },
  "cells": [
    {
      "cell_type": "markdown",
      "metadata": {
        "id": "view-in-github",
        "colab_type": "text"
      },
      "source": [
        "<a href=\"https://colab.research.google.com/github/dlorodriguesprogramador/estudos_de_analise_de_dados/blob/main/programacao_python_para_dados/programacao_python.ipynb\" target=\"_parent\"><img src=\"https://colab.research.google.com/assets/colab-badge.svg\" alt=\"Open In Colab\"/></a>"
      ]
    },
    {
      "cell_type": "markdown",
      "source": [
        "# **Módulo 1 - Programação em Python**"
      ],
      "metadata": {
        "id": "zX6tb8zvtx_u"
      }
    },
    {
      "cell_type": "markdown",
      "source": [
        "Nesse Módulo vamos estudar a sintaxe nativa do Python.\n",
        "\n",
        "**O que é Python?**\n",
        "\n",
        "Python é uma linguagem de programação popular. Foi criado por Guido Van Rossum e lançado em 1991.\n",
        "\n",
        "**Python pode ser usado para:**\n",
        "  1. Inteligência Artificial;\n",
        "  2. Machine Learning;\n",
        "  3. Desenvolvimento de Software;\n",
        "  4. Desenvolvimento de Aplicativos;\n",
        "  5. Automações (RPA);\n",
        "  6. IoT (Internet das Coisa);\n",
        "  7. Muitas outras."
      ],
      "metadata": {
        "id": "WYtBdXD5uH9F"
      }
    },
    {
      "cell_type": "markdown",
      "source": [
        "# **1. Sintaxe básica**\n",
        "\n",
        "Podemos utilizar '' (aspas simples)\n",
        "\n",
        "Podemos utlizar \"\" (aspas duplas)\n",
        "\n",
        "Utilizando o \\n para pular uma linha na impressão do valor\n",
        "\n",
        "Usamos o hastgag # para comentar algo\n"
      ],
      "metadata": {
        "id": "Wc3wNou1vVgq"
      }
    },
    {
      "cell_type": "code",
      "source": [
        "print('Olá Mundo')\n",
        "print(\"Olá Mundo\")\n",
        "print('Olá Mundo \\nOlá Mundo')"
      ],
      "metadata": {
        "colab": {
          "base_uri": "https://localhost:8080/"
        },
        "id": "GMHHYj5XwKlR",
        "outputId": "e4803ee3-3ca3-4072-cebc-a39a4a17595c"
      },
      "execution_count": 4,
      "outputs": [
        {
          "output_type": "stream",
          "name": "stdout",
          "text": [
            "Olá Mundo\n",
            "Olá Mundo\n",
            "Olá Mundo \n",
            "Olá Mundo\n"
          ]
        }
      ]
    },
    {
      "cell_type": "code",
      "source": [
        "# Comentario !!!!\n",
        "# Posso escrever qualquer coisa quando usamos #."
      ],
      "metadata": {
        "id": "O0o5SD4kwYko"
      },
      "execution_count": 5,
      "outputs": []
    },
    {
      "cell_type": "markdown",
      "source": [
        "# **2. Operadores matemáticos**\n",
        "\n",
        "Os operadores são usados para realizar operações em variáveis e valores.\n",
        "\n",
        "  1. Soma\n",
        "  2. Subtração\n",
        "  3. Multiplicação\n",
        "  4. Divisão\n",
        "  5. Exponenciação\n",
        "  6. Resto da Divisão\n",
        "  7. Divisão de Chão"
      ],
      "metadata": {
        "id": "gZtjVZbSwrJ4"
      }
    },
    {
      "cell_type": "code",
      "source": [
        "# Soma\n",
        "10 + 10"
      ],
      "metadata": {
        "colab": {
          "base_uri": "https://localhost:8080/"
        },
        "id": "rfCKwXZ2xFOo",
        "outputId": "f67ab649-2c53-4e53-ff06-490f120a9bc2"
      },
      "execution_count": 6,
      "outputs": [
        {
          "output_type": "execute_result",
          "data": {
            "text/plain": [
              "20"
            ]
          },
          "metadata": {},
          "execution_count": 6
        }
      ]
    },
    {
      "cell_type": "code",
      "source": [
        "# Subtração\n",
        "15 - 8"
      ],
      "metadata": {
        "colab": {
          "base_uri": "https://localhost:8080/"
        },
        "id": "TNUNGEHDxTPn",
        "outputId": "12ddd67b-5f14-494c-cdd5-ea86dbfebcc2"
      },
      "execution_count": 7,
      "outputs": [
        {
          "output_type": "execute_result",
          "data": {
            "text/plain": [
              "7"
            ]
          },
          "metadata": {},
          "execution_count": 7
        }
      ]
    },
    {
      "cell_type": "code",
      "source": [
        "# Multiplicação\n",
        "2 * 12"
      ],
      "metadata": {
        "colab": {
          "base_uri": "https://localhost:8080/"
        },
        "id": "YtJu_7RfxTCv",
        "outputId": "1dcc5b53-9b0e-4057-cd2c-b987ea2e4945"
      },
      "execution_count": 8,
      "outputs": [
        {
          "output_type": "execute_result",
          "data": {
            "text/plain": [
              "24"
            ]
          },
          "metadata": {},
          "execution_count": 8
        }
      ]
    },
    {
      "cell_type": "code",
      "source": [
        "# Divisão\n",
        "35 / 5"
      ],
      "metadata": {
        "colab": {
          "base_uri": "https://localhost:8080/"
        },
        "id": "jiwxm9p2xS7P",
        "outputId": "50cf41b0-acc7-413f-8146-841bb862987a"
      },
      "execution_count": 9,
      "outputs": [
        {
          "output_type": "execute_result",
          "data": {
            "text/plain": [
              "7.0"
            ]
          },
          "metadata": {},
          "execution_count": 9
        }
      ]
    },
    {
      "cell_type": "code",
      "source": [
        "# Exponenciação\n",
        "2 ** 4"
      ],
      "metadata": {
        "colab": {
          "base_uri": "https://localhost:8080/"
        },
        "id": "_DJIYvDFxSqv",
        "outputId": "2e974821-8261-42ee-e4c9-826e7cc3fd69"
      },
      "execution_count": 10,
      "outputs": [
        {
          "output_type": "execute_result",
          "data": {
            "text/plain": [
              "16"
            ]
          },
          "metadata": {},
          "execution_count": 10
        }
      ]
    },
    {
      "cell_type": "code",
      "source": [
        "# Resto da Divisão\n",
        "4 % 5"
      ],
      "metadata": {
        "colab": {
          "base_uri": "https://localhost:8080/"
        },
        "id": "HUtkDecyxSfe",
        "outputId": "223eedb0-65e8-4f64-a659-3ab3f259ce7d"
      },
      "execution_count": 11,
      "outputs": [
        {
          "output_type": "execute_result",
          "data": {
            "text/plain": [
              "4"
            ]
          },
          "metadata": {},
          "execution_count": 11
        }
      ]
    },
    {
      "cell_type": "code",
      "source": [
        "# Divisão de Chão\n",
        "3 // 5"
      ],
      "metadata": {
        "colab": {
          "base_uri": "https://localhost:8080/"
        },
        "id": "rS1f6BnexSKW",
        "outputId": "558c36cc-cdf7-4a11-d207-78560cb643f0"
      },
      "execution_count": 12,
      "outputs": [
        {
          "output_type": "execute_result",
          "data": {
            "text/plain": [
              "0"
            ]
          },
          "metadata": {},
          "execution_count": 12
        }
      ]
    },
    {
      "cell_type": "code",
      "source": [
        "# Priorização\n",
        "(10 + 5) * 2"
      ],
      "metadata": {
        "colab": {
          "base_uri": "https://localhost:8080/"
        },
        "id": "t32nnSiNyS8N",
        "outputId": "3bec4560-a568-4305-ae7d-1e30455073a1"
      },
      "execution_count": 13,
      "outputs": [
        {
          "output_type": "execute_result",
          "data": {
            "text/plain": [
              "30"
            ]
          },
          "metadata": {},
          "execution_count": 13
        }
      ]
    },
    {
      "cell_type": "markdown",
      "source": [
        "# **3. Variáveis**\n",
        "\n",
        "Variáveis são contêineres para armazenar valores de dados.\n",
        "\n",
        "Uma variável é criada no momento em que você atribui um valor a ela."
      ],
      "metadata": {
        "id": "YknAP8B_ykqN"
      }
    },
    {
      "cell_type": "code",
      "source": [
        "# Variáveis\n",
        "nome = 'Douglas Rodrigues'\n",
        "nome"
      ],
      "metadata": {
        "colab": {
          "base_uri": "https://localhost:8080/",
          "height": 35
        },
        "id": "H-3mc6MNy5y1",
        "outputId": "2da321b8-3c62-44da-c782-0a86fd7f603b"
      },
      "execution_count": 14,
      "outputs": [
        {
          "output_type": "execute_result",
          "data": {
            "text/plain": [
              "'Douglas Rodrigues'"
            ],
            "application/vnd.google.colaboratory.intrinsic+json": {
              "type": "string"
            }
          },
          "metadata": {},
          "execution_count": 14
        }
      ]
    },
    {
      "cell_type": "code",
      "source": [
        "qualquer_nome_que_quiser = 'Variável'\n",
        "qualquer_nome_que_quiser"
      ],
      "metadata": {
        "colab": {
          "base_uri": "https://localhost:8080/",
          "height": 35
        },
        "id": "_fxeoL3jzSy8",
        "outputId": "56dc27b3-bec6-4fa0-a717-d11922ccd063"
      },
      "execution_count": 15,
      "outputs": [
        {
          "output_type": "execute_result",
          "data": {
            "text/plain": [
              "'Variável'"
            ],
            "application/vnd.google.colaboratory.intrinsic+json": {
              "type": "string"
            }
          },
          "metadata": {},
          "execution_count": 15
        }
      ]
    },
    {
      "cell_type": "code",
      "source": [
        "# Variáveis de Texto\n",
        "var_texto_01 = 'Olá Mundo'\n",
        "var_texto_02 = str('Olá Mundo 1')\n",
        "\n",
        "print(var_texto_01, var_texto_02)"
      ],
      "metadata": {
        "colab": {
          "base_uri": "https://localhost:8080/"
        },
        "id": "29h_AtNFzdpc",
        "outputId": "af20e885-accd-4225-d4ef-b846632e396c"
      },
      "execution_count": 17,
      "outputs": [
        {
          "output_type": "stream",
          "name": "stdout",
          "text": [
            "Olá Mundo Olá Mundo 1\n"
          ]
        }
      ]
    },
    {
      "cell_type": "code",
      "source": [
        "# Variáveis Numericas\n",
        "var_numerica_01 = 10\n",
        "var_numerica_02 = int(20)\n",
        "\n",
        "print(var_numerica_01, var_numerica_02)"
      ],
      "metadata": {
        "colab": {
          "base_uri": "https://localhost:8080/"
        },
        "id": "za9NwCSTz_bq",
        "outputId": "0b6ac168-c612-41b3-d46f-9488b8f600ee"
      },
      "execution_count": 18,
      "outputs": [
        {
          "output_type": "stream",
          "name": "stdout",
          "text": [
            "10 20\n"
          ]
        }
      ]
    },
    {
      "cell_type": "code",
      "source": [
        "# Variáveis Flutuantes\n",
        "var_flutuante_01 = 10.5\n",
        "var_flutuante_02 = float(20.5)\n",
        "\n",
        "print(var_flutuante_01, var_flutuante_02)"
      ],
      "metadata": {
        "colab": {
          "base_uri": "https://localhost:8080/"
        },
        "id": "h-hJ3QX30TjC",
        "outputId": "cd707235-7c59-4b63-96ba-c4ec9e176c2d"
      },
      "execution_count": 19,
      "outputs": [
        {
          "output_type": "stream",
          "name": "stdout",
          "text": [
            "10.5 20.5\n"
          ]
        }
      ]
    },
    {
      "cell_type": "code",
      "source": [
        "# Variáveis Boleanas\n",
        "var_boolean_01 = True\n",
        "var_boolean_02 = False\n",
        "\n",
        "print(var_boolean_01, var_boolean_02)"
      ],
      "metadata": {
        "colab": {
          "base_uri": "https://localhost:8080/"
        },
        "id": "8FCPVP_B1ISw",
        "outputId": "f6a7d196-9e43-466d-818c-ac004914ba76"
      },
      "execution_count": 20,
      "outputs": [
        {
          "output_type": "stream",
          "name": "stdout",
          "text": [
            "True False\n"
          ]
        }
      ]
    },
    {
      "cell_type": "markdown",
      "source": [
        "# **4. Tipos de Dados**\n",
        "\n",
        "  1. Listas - São criadas usando [] (Colchetes)\n",
        "  2. Tuplas - São criadas usando () (Paranteses)\n",
        "  3. Dicionários - São criadas usando {} (Chaves)\n",
        "\n",
        "    Esses tipos de dados podem receber qualquer tipo de informação, inclusive Operações Aritméticas."
      ],
      "metadata": {
        "id": "Jw78leX65c65"
      }
    },
    {
      "cell_type": "code",
      "source": [
        "# Listas\n",
        "lista_exemplo_01 = [ 1, 2, 3, 4, 5, 6, 7, 8, 9, 10 ]\n",
        "lista_exemplo_02 = [ 'Douglas', 'Rodrigues', 'Souza' ]\n",
        "lista_exemplo_03 = [ 1, 2, 3, 'Douglas', 'Rodrigues', 'Souza' ]\n",
        "lista_exemplo_04 = [ 1, 2, 3, 'Douglas', 'Rodrigues', 'Souza', True, False ]\n",
        "lista_exemplo_05 = [ 1, 2, 3, 'Douglas', 'Rodrigues', 'Souza', True, False, [ 1, 2, 3, 'Douglas', 'Rodrigues', 'Souza', True, False ] ]\n",
        "\n",
        "print(lista_exemplo_01, lista_exemplo_02, lista_exemplo_03, lista_exemplo_04, lista_exemplo_05)"
      ],
      "metadata": {
        "colab": {
          "base_uri": "https://localhost:8080/"
        },
        "id": "7J7Jr0vn6JsB",
        "outputId": "18f8c6ef-cbf8-46e8-9b7e-a1996ec22d80"
      },
      "execution_count": 21,
      "outputs": [
        {
          "output_type": "stream",
          "name": "stdout",
          "text": [
            "[1, 2, 3, 4, 5, 6, 7, 8, 9, 10] ['Douglas', 'Rodrigues', 'Souza'] [1, 2, 3, 'Douglas', 'Rodrigues', 'Souza'] [1, 2, 3, 'Douglas', 'Rodrigues', 'Souza', True, False] [1, 2, 3, 'Douglas', 'Rodrigues', 'Souza', True, False, [1, 2, 3, 'Douglas', 'Rodrigues', 'Souza', True, False]]\n"
          ]
        }
      ]
    },
    {
      "cell_type": "code",
      "source": [
        "# Tuplas !!!!!! são imutaveis\n",
        "tupla_exemplo_01 = ( 1, 2, 3, 4, 5, 6, 7, 8, 9, 10 )\n",
        "tupla_exemplo_02 = ( 'Douglas', 'Rodrigues', 'Souza' )\n",
        "tupla_exemplo_03 = ( 1, 2, 3, 'Douglas', 'Rodrigues', 'Souza' )\n",
        "tupla_exemplo_04 = ( 1, 2, 3, 'Douglas', 'Rodrigues', 'Souza', True, False )\n",
        "tupla_exemplo_05 = ( 1, 2, 3, 'Douglas', 'Rodrigues', 'Souza', True, False, ( 1, 2, 3, 'Douglas', 'Rodrigues', 'Souza', True, False ) )\n",
        "\n",
        "print(tupla_exemplo_01, tupla_exemplo_02, tupla_exemplo_03, tupla_exemplo_04, tupla_exemplo_05)"
      ],
      "metadata": {
        "colab": {
          "base_uri": "https://localhost:8080/"
        },
        "id": "1hvH2wr46Tgo",
        "outputId": "c5344fcd-eea8-4291-d807-9567c677c254"
      },
      "execution_count": 22,
      "outputs": [
        {
          "output_type": "stream",
          "name": "stdout",
          "text": [
            "(1, 2, 3, 4, 5, 6, 7, 8, 9, 10) ('Douglas', 'Rodrigues', 'Souza') (1, 2, 3, 'Douglas', 'Rodrigues', 'Souza') (1, 2, 3, 'Douglas', 'Rodrigues', 'Souza', True, False) (1, 2, 3, 'Douglas', 'Rodrigues', 'Souza', True, False, (1, 2, 3, 'Douglas', 'Rodrigues', 'Souza', True, False))\n"
          ]
        }
      ]
    },
    {
      "cell_type": "code",
      "source": [
        "# Dicionarios\n",
        "dicionario = {\n",
        "    'Index 01': 'Douglas',\n",
        "    'Index 02': 'Rodrigues',\n",
        "    'Index 03': 'Souza',\n",
        "    'lista_exemplo_01': [ 1, 2, 3, 4, 5, 6, 7, 8, 9, 10 ],\n",
        "}\n",
        "\n",
        "print(dicionario)"
      ],
      "metadata": {
        "colab": {
          "base_uri": "https://localhost:8080/"
        },
        "id": "pJ1PGsnT7msX",
        "outputId": "9eac1be4-c2e9-4cfe-9450-637076a3385f"
      },
      "execution_count": 23,
      "outputs": [
        {
          "output_type": "stream",
          "name": "stdout",
          "text": [
            "{'Index 01': 'Douglas', 'Index 02': 'Rodrigues', 'Index 03': 'Souza', 'lista_exemplo_01': [1, 2, 3, 4, 5, 6, 7, 8, 9, 10]}\n"
          ]
        }
      ]
    }
  ]
}